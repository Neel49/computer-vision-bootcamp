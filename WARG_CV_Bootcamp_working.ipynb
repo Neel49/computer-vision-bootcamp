{
  "cells": [
    {
      "cell_type": "code",
      "execution_count": 2,
      "metadata": {
        "id": "_l93VOwWvsKD"
      },
      "outputs": [],
      "source": [
        "#the essentials for deep_learning\n",
        "import numpy as np\n",
        "import tensorflow as tf\n",
        "\n",
        "#going to need later to create the model\n",
        "from tensorflow.keras.models import Sequential\n",
        "from tensorflow.keras.layers import Conv2D, Dense, Flatten, Reshape, LeakyReLU, Dropout, UpSampling2D, MaxPooling2D, MaxPooling3D\n",
        "\n",
        "#going to use keras datasets for easy access to the CIFAR-10 datasets\n",
        "from tensorflow.keras import datasets\n",
        "\n",
        "#for visualizing of results, specifically validation accuracy\n",
        "from matplotlib import pyplot as plt"
      ]
    },
    {
      "cell_type": "code",
      "source": [
        "\"\"\"\n",
        "loading in the cifar10 dataset from keras.datasets, and splitting it into \n",
        "training images, training labels, validation images and validation labels\n",
        "\"\"\" \n",
        "(train_images, train_labels), (val_images, val_labels) = datasets.cifar10.load_data()\n",
        "\"\"\"\n",
        "Normalizing pixel values in the images to be between 0 and 1 which will help\n",
        "speed up model learning\n",
        "\"\"\"\n",
        "train_images, val_images = train_images / 255.0, val_images / 255.0\n",
        "\n",
        "class_names = ['airplane', 'automobile', 'bird', 'cat', 'deer',\n",
        "               'dog', 'frog', 'horse', 'ship', 'truck']"
      ],
      "metadata": {
        "id": "8luH_BGRwetV"
      },
      "execution_count": 7,
      "outputs": []
    },
    {
      "cell_type": "code",
      "source": [
        "\n",
        "#making the model\n",
        "\n",
        "model = Sequential()\n",
        "\n",
        "\"\"\"\n",
        "for the first nine layers I have a series of:\n",
        "A convolution layer of 16,32,64 filters respectively, each with a 3by3 kernel\n",
        " - I chose a 3 by 3 kernel because it seemed like a general theme in google\n",
        " - I chose LeakyRelu instead of Relu so I could deal with the dying ReLU problem\n",
        "A dropout layer to prevent overfitting and keep the CNN on it's toes\n",
        "Finally a max pooling layer to reduce computational cost\n",
        "\"\"\"\n",
        "model.add(Conv2D(16, (3,3),activation =LeakyReLU(0.2), input_shape=(32,32,3)))\n",
        "model.add(Dropout(0.2))\n",
        "model.add(MaxPooling2D(pool_size = (2,2)))\n",
        "\n",
        "model.add(Conv2D(32, (3,3),activation =LeakyReLU(0.2)))\n",
        "model.add(Dropout(0.2))\n",
        "model.add(MaxPooling2D(pool_size = (2,2)))\n",
        "\n",
        "model.add(Conv2D(64, (3,3),activation =LeakyReLU(0.2)))\n",
        "model.add(Dropout(0.2))\n",
        "model.add(MaxPooling2D(pool_size = (2,2)))\n",
        "\n",
        "\"\"\"\n",
        "For the next two layers I:\n",
        "Flattened and passed to a fully connected layer\n",
        "The dense layer which had an activation function of leakyReLU\n",
        "Another dropout layer to prevent overfitting\n",
        "Finally the classification layer with 10 nuerons (for 10 classes in cifar10)\n",
        " - Used softmax as activation so it would give me probabilities for each class label\n",
        "\n",
        "\"\"\"\n",
        "\n",
        "model.add(Flatten())\n",
        "model.add(Dense(256, activation =LeakyReLU(0.2)))\n",
        "model.add(Dropout(0.2))\n",
        "\n",
        "model.add(Dense(10, activation='softmax'))\n",
        "model.summary()"
      ],
      "metadata": {
        "colab": {
          "base_uri": "https://localhost:8080/"
        },
        "id": "7qWwEbWLw2mK",
        "outputId": "d850966a-9dd1-42e8-8592-0892b392c3fd"
      },
      "execution_count": 6,
      "outputs": [
        {
          "output_type": "stream",
          "name": "stdout",
          "text": [
            "Model: \"sequential_1\"\n",
            "_________________________________________________________________\n",
            " Layer (type)                Output Shape              Param #   \n",
            "=================================================================\n",
            " conv2d_3 (Conv2D)           (None, 30, 30, 16)        448       \n",
            "                                                                 \n",
            " dropout_4 (Dropout)         (None, 30, 30, 16)        0         \n",
            "                                                                 \n",
            " max_pooling2d (MaxPooling2D  (None, 15, 15, 16)       0         \n",
            " )                                                               \n",
            "                                                                 \n",
            " conv2d_4 (Conv2D)           (None, 13, 13, 32)        4640      \n",
            "                                                                 \n",
            " dropout_5 (Dropout)         (None, 13, 13, 32)        0         \n",
            "                                                                 \n",
            " max_pooling2d_1 (MaxPooling  (None, 6, 6, 32)         0         \n",
            " 2D)                                                             \n",
            "                                                                 \n",
            " conv2d_5 (Conv2D)           (None, 4, 4, 64)          18496     \n",
            "                                                                 \n",
            " dropout_6 (Dropout)         (None, 4, 4, 64)          0         \n",
            "                                                                 \n",
            " max_pooling2d_2 (MaxPooling  (None, 2, 2, 64)         0         \n",
            " 2D)                                                             \n",
            "                                                                 \n",
            " flatten_1 (Flatten)         (None, 256)               0         \n",
            "                                                                 \n",
            " dense_2 (Dense)             (None, 256)               65792     \n",
            "                                                                 \n",
            " dropout_7 (Dropout)         (None, 256)               0         \n",
            "                                                                 \n",
            " dense_3 (Dense)             (None, 10)                2570      \n",
            "                                                                 \n",
            "=================================================================\n",
            "Total params: 91,946\n",
            "Trainable params: 91,946\n",
            "Non-trainable params: 0\n",
            "_________________________________________________________________\n"
          ]
        }
      ]
    },
    {
      "cell_type": "code",
      "source": [
        "\"\"\"\n",
        "Used sparse_categorical crossentrophy for the loss function because I needed\n",
        "a probabilistic loss function and my options were categorical, binary, or\n",
        "sparse_categorical. I ruled out binary because there were more than two classes,\n",
        "and since the cifar dataset comes with integer labels, sparse_categorical makes \n",
        "more sense.\n",
        "\n",
        "\n",
        "I used ada as my optimizer, while I believe I should have SGD instead, because \n",
        "adam performs well on the training set, but generalizes worse\n",
        "then SGD on the testing set, however adam is faster and it has an adaptive \n",
        "learning rate, so that's what I'm going to be using\n",
        "\"\"\"\n",
        "\n",
        "model.compile(optimizer = 'adam', loss = 'sparse_categorical_crossentropy', \\\n",
        "              metrics = ['accuracy'])\n"
      ],
      "metadata": {
        "id": "UZCDYIxOxHOr"
      },
      "execution_count": 8,
      "outputs": []
    },
    {
      "cell_type": "code",
      "source": [
        "#setting up the callback directory\n",
        "tensorboard_callback = tf.keras.callbacks.TensorBoard(log_dir = 'logs')"
      ],
      "metadata": {
        "id": "iTM9MavTylER"
      },
      "execution_count": 11,
      "outputs": []
    },
    {
      "cell_type": "code",
      "source": [
        "\"\"\"\n",
        "actually training the model, passing in the training_set and the validation set,\n",
        "also letting it go for 20 epochs, because that is what many of the tuturials \n",
        "recommended, also used the callbacks feature to specifically a callback directory\n",
        "so I can go back to the model at different points in it's training\n",
        "\"\"\"\n",
        "hist = model.fit(train_images, train_labels, epochs=20, \\\n",
        "                 validation_data=(val_images, val_labels), \\\n",
        "                 callbacks=[tensorboard_callback])\n",
        "\n"
      ],
      "metadata": {
        "colab": {
          "base_uri": "https://localhost:8080/"
        },
        "id": "jzy9Iqn3xL7L",
        "outputId": "1be1c157-8f70-4d4a-f7bf-4531828e8747"
      },
      "execution_count": 13,
      "outputs": [
        {
          "output_type": "stream",
          "name": "stdout",
          "text": [
            "Epoch 1/20\n",
            "1563/1563 [==============================] - 9s 6ms/step - loss: 0.7293 - accuracy: 0.7411 - val_loss: 0.9697 - val_accuracy: 0.6771\n",
            "Epoch 2/20\n",
            "1563/1563 [==============================] - 9s 6ms/step - loss: 0.7191 - accuracy: 0.7469 - val_loss: 0.8126 - val_accuracy: 0.7221\n",
            "Epoch 3/20\n",
            "1563/1563 [==============================] - 10s 6ms/step - loss: 0.7055 - accuracy: 0.7527 - val_loss: 0.8653 - val_accuracy: 0.7047\n",
            "Epoch 4/20\n",
            "1563/1563 [==============================] - 9s 6ms/step - loss: 0.6993 - accuracy: 0.7529 - val_loss: 0.8969 - val_accuracy: 0.6988\n",
            "Epoch 5/20\n",
            "1563/1563 [==============================] - 9s 6ms/step - loss: 0.6909 - accuracy: 0.7574 - val_loss: 0.8939 - val_accuracy: 0.7035\n",
            "Epoch 6/20\n",
            "1563/1563 [==============================] - 8s 5ms/step - loss: 0.6879 - accuracy: 0.7575 - val_loss: 0.9326 - val_accuracy: 0.6903\n",
            "Epoch 7/20\n",
            "1563/1563 [==============================] - 12s 7ms/step - loss: 0.6762 - accuracy: 0.7627 - val_loss: 0.9864 - val_accuracy: 0.6858\n",
            "Epoch 8/20\n",
            "1563/1563 [==============================] - 15s 10ms/step - loss: 0.6749 - accuracy: 0.7628 - val_loss: 0.8751 - val_accuracy: 0.7107\n",
            "Epoch 9/20\n",
            "1563/1563 [==============================] - 16s 10ms/step - loss: 0.6689 - accuracy: 0.7653 - val_loss: 0.8070 - val_accuracy: 0.7285\n",
            "Epoch 10/20\n",
            "1563/1563 [==============================] - 9s 6ms/step - loss: 0.6657 - accuracy: 0.7649 - val_loss: 0.8588 - val_accuracy: 0.7161\n",
            "Epoch 11/20\n",
            "1563/1563 [==============================] - 13s 8ms/step - loss: 0.6533 - accuracy: 0.7686 - val_loss: 0.8455 - val_accuracy: 0.7140\n",
            "Epoch 12/20\n",
            "1563/1563 [==============================] - 10s 7ms/step - loss: 0.6498 - accuracy: 0.7694 - val_loss: 0.8112 - val_accuracy: 0.7318\n",
            "Epoch 13/20\n",
            "1563/1563 [==============================] - 10s 7ms/step - loss: 0.6484 - accuracy: 0.7725 - val_loss: 0.8249 - val_accuracy: 0.7252\n",
            "Epoch 14/20\n",
            "1563/1563 [==============================] - 12s 8ms/step - loss: 0.6444 - accuracy: 0.7721 - val_loss: 0.7891 - val_accuracy: 0.7308\n",
            "Epoch 15/20\n",
            "1563/1563 [==============================] - 12s 8ms/step - loss: 0.6378 - accuracy: 0.7774 - val_loss: 0.7667 - val_accuracy: 0.7362\n",
            "Epoch 16/20\n",
            "1563/1563 [==============================] - 10s 6ms/step - loss: 0.6373 - accuracy: 0.7749 - val_loss: 0.7836 - val_accuracy: 0.7364\n",
            "Epoch 17/20\n",
            "1563/1563 [==============================] - 11s 7ms/step - loss: 0.6334 - accuracy: 0.7765 - val_loss: 0.8278 - val_accuracy: 0.7247\n",
            "Epoch 18/20\n",
            "1563/1563 [==============================] - 11s 7ms/step - loss: 0.6369 - accuracy: 0.7754 - val_loss: 0.8535 - val_accuracy: 0.7193\n",
            "Epoch 19/20\n",
            "1563/1563 [==============================] - 8s 5ms/step - loss: 0.6189 - accuracy: 0.7825 - val_loss: 0.9076 - val_accuracy: 0.7056\n",
            "Epoch 20/20\n",
            "1563/1563 [==============================] - 9s 6ms/step - loss: 0.6264 - accuracy: 0.7784 - val_loss: 0.7624 - val_accuracy: 0.7421\n"
          ]
        }
      ]
    },
    {
      "cell_type": "code",
      "source": [
        "#using pyplot to plot out the loss and validation loss\n",
        "plt.figure()\n",
        "plt.plot(hist.history['loss'], color = 'teal', label = 'loss')\n",
        "plt.plot(hist.history['val_loss'], color = 'orange', label = 'val_loss')\n",
        "plt.suptitle('Loss', fontsize = 30)\n",
        "plt.legend(loc='upper right')\n",
        "plt.show()"
      ],
      "metadata": {
        "colab": {
          "base_uri": "https://localhost:8080/",
          "height": 294
        },
        "id": "nlFRV8MM0mAn",
        "outputId": "766887bf-02c4-4e6a-83bc-3f46582f84c8"
      },
      "execution_count": 14,
      "outputs": [
        {
          "output_type": "display_data",
          "data": {
            "text/plain": [
              "<Figure size 432x288 with 1 Axes>"
            ],
            "image/png": "[encoded data removed]"
          },
          "metadata": {
            "needs_background": "light"
          }
        }
      ]
    },
    {
      "cell_type": "code",
      "source": [
        "# using pyplot to plot out the accuracy and validation accuracy\n",
        "plt.figure()\n",
        "plt.plot(hist.history['accuracy'], color = 'teal', label = 'accuracy')\n",
        "plt.plot(hist.history['val_accuracy'], color = 'orange', label = 'val_accuracy')\n",
        "plt.suptitle('Accuracy', fontsize = 30)\n",
        "plt.legend(loc='upper right')\n",
        "plt.show()"
      ],
      "metadata": {
        "colab": {
          "base_uri": "https://localhost:8080/",
          "height": 294
        },
        "id": "AG8rcvcm1-MG",
        "outputId": "64d7a3f6-b955-4485-bb39-1214fa641604"
      },
      "execution_count": 15,
      "outputs": [
        {
          "output_type": "display_data",
          "data": {
            "text/plain": [
              "<Figure size 432x288 with 1 Axes>"
            ],
            "image/png": "[encoded data removed]"
          },
          "metadata": {
            "needs_background": "light"
          }
        }
      ]
    }
  ],
  "metadata": {
    "colab": {
      "provenance": []
    },
    "kernelspec": {
      "display_name": "Python 3",
      "name": "python3"
    },
    "language_info": {
      "name": "python"
    },
    "accelerator": "GPU",
    "gpuClass": "standard"
  },
  "nbformat": 4,
  "nbformat_minor": 0
}