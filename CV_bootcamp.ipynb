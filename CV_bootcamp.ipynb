{
  "nbformat": 4,
  "nbformat_minor": 0,
  "metadata": {
    "colab": {
      "provenance": []
    },
    "kernelspec": {
      "name": "python3",
      "display_name": "Python 3"
    },
    "language_info": {
      "name": "python"
    },
    "accelerator": "GPU",
    "gpuClass": "standard"
  },
  "cells": [
    {
      "cell_type": "code",
      "source": [
        "\n",
        "#the essentials for deep_learning\n",
        "import numpy as np\n",
        "import tensorflow as tf\n",
        "from tensorflow.keras.models import Sequential\n",
        "\n",
        "from tensorflow.keras.layers import Conv2D, Dense, Flatten, Reshape, LeakyReLU, Dropout, UpSampling2D, MaxPooling2D\n",
        "\n",
        "#going to use tensorflow datasets for easy access to the CIFAR-10 datasets\n",
        "#could have just as easily used keras dataset instead\n",
        "import tensorflow_datasets as tfds\n",
        "\n",
        "#for visualizing of results, specifically validation accuracy\n",
        "from matplotlib import pyplot as plt\n"
      ],
      "metadata": {
        "id": "bB7T-NGJCiCE"
      },
      "execution_count": 11,
      "outputs": []
    },
    {
      "cell_type": "code",
      "source": [
        "\n",
        "\n",
        "\n",
        "\n"
      ],
      "metadata": {
        "id": "2zB4fzfSEX8h"
      },
      "execution_count": 12,
      "outputs": []
    },
    {
      "cell_type": "code",
      "source": [
        "\"\"\"\n",
        "created a dataset and training_set variable that basically acts as a \n",
        "pipeline to the cifar10 training split provided by tensorflow datasets\n",
        "\n",
        "\"\"\"\n",
        "\n",
        "training_set = tfds.load('cifar10', split = 'train')\n",
        "testing_set = tfds.load('cifar10', split = 'test')\n",
        "\n",
        "#doing the preprocessing\n",
        "\n",
        "def scale_images(data): \n",
        "    image = data['image']\n",
        "    label = data['label']\n",
        "    return image / 255, label\n",
        "\n",
        "\n",
        "\n",
        "#used the scale_image to normalize RGB values between 0 and 1\n",
        "training_set = training_set.map(scale_images) \n",
        "testing_set = testing_set.map(scale_images)\n",
        "\n",
        "\n",
        "\n",
        "\n",
        "\n",
        "\n"
      ],
      "metadata": {
        "id": "CHc-UnJTT0N7"
      },
      "execution_count": 32,
      "outputs": []
    },
    {
      "cell_type": "code",
      "source": [
        "\n",
        "\n",
        "\n",
        "#for both test and train datasets, I just shuffled the order\n",
        "\n",
        "training_set = training_set.shuffle(60000)\n",
        "testing_set = testing_set.shuffle(10000)\n",
        "\n",
        "#seperated them into batches\n",
        "\n",
        "training_set = training_set.batch(128)\n",
        "testing_set  = testing_set.batch(128)\n",
        "\n",
        "\"\"\"\n",
        "#start fetching another batch while the current batch is being processed \n",
        "#by the model. The amount of batches is determined automatically based \n",
        "\"\"\"\n",
        "training_set = training_set.prefetch(tf.data.AUTOTUNE)\n",
        "testing_set = testing_set.prefetch(tf.data.AUTOTUNE)\n",
        "\n",
        "\n",
        "\n",
        "#caching the datasets so that there's no need to re-preprocess between epochs\n",
        "training_set = training_set.cache()\n",
        "testing_set = testing_set.cache()"
      ],
      "metadata": {
        "id": "wHFm6xpeHvTt"
      },
      "execution_count": 33,
      "outputs": []
    },
    {
      "cell_type": "code",
      "source": [
        "\n",
        "#making the model\n",
        "\n",
        "model = Sequential()\n",
        "\n",
        "\"\"\"\n",
        "for the first nine layers I have a series of:\n",
        "A convolution layer of 16,32,64 filters respectively, each with a 3by3 kernel\n",
        " - I chose a 3 by 3 kernel because it seemed like a general theme in google\n",
        " - I chose LeakyRelu instead of Relu so I could deal with the dying ReLU problem\n",
        "A dropout layer to prevent overfitting and keep the CNN on it's toes\n",
        "Finally a max pooling layer to reduce computational cost\n",
        "\"\"\"\n",
        "model.add(Conv2D(32, (2,2),activation =LeakyReLU(0.2), input_shape=(32,32,3)))\n",
        "model.add(Dropout(0.2))\n",
        "model.add(MaxPooling2D(pool_size = (2,2)))\n",
        "\n",
        "model.add(Conv2D(32, (3,3),activation =LeakyReLU(0.2)))\n",
        "model.add(Dropout(0.2))\n",
        "model.add(MaxPooling2D(pool_size = (2,2)))\n",
        "\n",
        "model.add(Conv2D(64, (3,3),activation =LeakyReLU(0.2)))\n",
        "model.add(Dropout(0.2))\n",
        "model.add(MaxPooling2D(pool_size = (2,2)))\n",
        "\"\"\"\n",
        "For the next two layers I:\n",
        "Flattened and passed to a fully connected layer\n",
        "The dense layer which had an activation function of leakyReLU\n",
        "Another dropout layer to prevent overfitting\n",
        "Finally the classification layer with 10 nuerons (for 10 classes in cifar10)\n",
        " - Used softmax as activation so it would give me probabilities for each class label\n",
        "\n",
        "\"\"\"\n",
        "\n",
        "model.add(Flatten())\n",
        "model.add(Dense(256, activation =LeakyReLU(0.2)))\n",
        "model.add(Dropout(0.2))\n",
        "\n",
        "model.add(Dense(10, activation='softmax'))\n",
        "model.summary()"
      ],
      "metadata": {
        "id": "EPY7KCPuDD5n",
        "colab": {
          "base_uri": "https://localhost:8080/"
        },
        "outputId": "4c62039e-efde-4571-9da6-03bf6319f4b4"
      },
      "execution_count": 64,
      "outputs": [
        {
          "output_type": "stream",
          "name": "stdout",
          "text": [
            "Model: \"sequential_16\"\n",
            "_________________________________________________________________\n",
            " Layer (type)                Output Shape              Param #   \n",
            "=================================================================\n",
            " conv2d_48 (Conv2D)          (None, 31, 31, 32)        416       \n",
            "                                                                 \n",
            " dropout_64 (Dropout)        (None, 31, 31, 32)        0         \n",
            "                                                                 \n",
            " max_pooling2d_44 (MaxPoolin  (None, 15, 15, 32)       0         \n",
            " g2D)                                                            \n",
            "                                                                 \n",
            " conv2d_49 (Conv2D)          (None, 13, 13, 32)        9248      \n",
            "                                                                 \n",
            " dropout_65 (Dropout)        (None, 13, 13, 32)        0         \n",
            "                                                                 \n",
            " max_pooling2d_45 (MaxPoolin  (None, 6, 6, 32)         0         \n",
            " g2D)                                                            \n",
            "                                                                 \n",
            " conv2d_50 (Conv2D)          (None, 4, 4, 64)          18496     \n",
            "                                                                 \n",
            " dropout_66 (Dropout)        (None, 4, 4, 64)          0         \n",
            "                                                                 \n",
            " max_pooling2d_46 (MaxPoolin  (None, 2, 2, 64)         0         \n",
            " g2D)                                                            \n",
            "                                                                 \n",
            " flatten_16 (Flatten)        (None, 256)               0         \n",
            "                                                                 \n",
            " dense_32 (Dense)            (None, 256)               65792     \n",
            "                                                                 \n",
            " dropout_67 (Dropout)        (None, 256)               0         \n",
            "                                                                 \n",
            " dense_33 (Dense)            (None, 10)                2570      \n",
            "                                                                 \n",
            "=================================================================\n",
            "Total params: 96,522\n",
            "Trainable params: 96,522\n",
            "Non-trainable params: 0\n",
            "_________________________________________________________________\n"
          ]
        }
      ]
    },
    {
      "cell_type": "code",
      "source": [
        "\"\"\"\n",
        "Used sparse_categorical crossentrophy for the loss function because I needed\n",
        "a probabilistic loss function and my options were categorical, binary, or\n",
        "sparse_categorical. I ruled out binary because there were more than two classes,\n",
        "and since the cifar dataset comes with integer labels, sparse_categorical makes \n",
        "more sense.\n",
        "\n",
        "\n",
        "I used ada as my optimizer, while I believe I should have SGD instead, because \n",
        "adam performs well on the training set, but generalizes worse\n",
        "then SGD on the testing set, however adam is faster and it has an adaptive \n",
        "learning rate, so that's what I'm going to be using\n",
        "\"\"\"\n",
        "\n",
        "model.compile(optimizer = 'adam', loss = 'sparse_categorical_crossentropy', \\\n",
        "              metrics = ['accuracy'])\n",
        "\n"
      ],
      "metadata": {
        "id": "AoJMaWVzbDaU"
      },
      "execution_count": 66,
      "outputs": []
    },
    {
      "cell_type": "code",
      "source": [
        "#setting up the callback directory\n",
        "tensorboard_callback = tf.keras.callbacks.TensorBoard(log_dir = 'logs')\n",
        "\n",
        "\"\"\"\n",
        "actually training the model, passing in the training_set and the validation set,\n",
        "also letting it go for 20 epochs, because that is what many of the tuturials \n",
        "recommended, also used the callbacks feature to specifically a callback directory\n",
        "so I can go back to the model at different points in it's training\n",
        "\"\"\"\n",
        "\n",
        "hist = model.fit(training_set, epochs=20, \\\n",
        "                 validation_data=testing_set, \\\n",
        "                 callbacks=[tensorboard_callback])"
      ],
      "metadata": {
        "colab": {
          "base_uri": "https://localhost:8080/"
        },
        "id": "i4EoSjrdibE0",
        "outputId": "fba7a2cb-c292-4df1-dcb8-44b24457db5e"
      },
      "execution_count": 69,
      "outputs": [
        {
          "output_type": "stream",
          "name": "stdout",
          "text": [
            "Epoch 1/20\n",
            "391/391 [==============================] - 3s 8ms/step - loss: 0.7912 - accuracy: 0.7233 - val_loss: 0.8906 - val_accuracy: 0.6934\n",
            "Epoch 2/20\n",
            "391/391 [==============================] - 3s 8ms/step - loss: 0.7740 - accuracy: 0.7307 - val_loss: 0.8641 - val_accuracy: 0.7007\n",
            "Epoch 3/20\n",
            "391/391 [==============================] - 4s 9ms/step - loss: 0.7562 - accuracy: 0.7342 - val_loss: 0.8769 - val_accuracy: 0.6995\n",
            "Epoch 4/20\n",
            "391/391 [==============================] - 3s 8ms/step - loss: 0.7389 - accuracy: 0.7418 - val_loss: 0.8852 - val_accuracy: 0.6988\n",
            "Epoch 5/20\n",
            "391/391 [==============================] - 3s 8ms/step - loss: 0.7238 - accuracy: 0.7467 - val_loss: 0.8730 - val_accuracy: 0.6981\n",
            "Epoch 6/20\n",
            "391/391 [==============================] - 3s 8ms/step - loss: 0.7131 - accuracy: 0.7517 - val_loss: 0.8202 - val_accuracy: 0.7157\n",
            "Epoch 7/20\n",
            "391/391 [==============================] - 3s 9ms/step - loss: 0.6982 - accuracy: 0.7562 - val_loss: 0.8667 - val_accuracy: 0.7073\n",
            "Epoch 8/20\n",
            "391/391 [==============================] - 3s 8ms/step - loss: 0.6913 - accuracy: 0.7589 - val_loss: 0.8121 - val_accuracy: 0.7200\n",
            "Epoch 9/20\n",
            "391/391 [==============================] - 4s 9ms/step - loss: 0.6787 - accuracy: 0.7610 - val_loss: 0.8032 - val_accuracy: 0.7219\n",
            "Epoch 10/20\n",
            "391/391 [==============================] - 5s 13ms/step - loss: 0.6718 - accuracy: 0.7648 - val_loss: 0.7955 - val_accuracy: 0.7287\n",
            "Epoch 11/20\n",
            "391/391 [==============================] - 4s 9ms/step - loss: 0.6642 - accuracy: 0.7663 - val_loss: 0.8063 - val_accuracy: 0.7235\n",
            "Epoch 12/20\n",
            "391/391 [==============================] - 4s 10ms/step - loss: 0.6520 - accuracy: 0.7702 - val_loss: 0.8064 - val_accuracy: 0.7256\n",
            "Epoch 13/20\n",
            "391/391 [==============================] - 3s 7ms/step - loss: 0.6423 - accuracy: 0.7749 - val_loss: 0.7651 - val_accuracy: 0.7358\n",
            "Epoch 14/20\n",
            "391/391 [==============================] - 3s 8ms/step - loss: 0.6379 - accuracy: 0.7757 - val_loss: 0.8016 - val_accuracy: 0.7251\n",
            "Epoch 15/20\n",
            "391/391 [==============================] - 3s 7ms/step - loss: 0.6319 - accuracy: 0.7781 - val_loss: 0.7859 - val_accuracy: 0.7327\n",
            "Epoch 16/20\n",
            "391/391 [==============================] - 3s 8ms/step - loss: 0.6245 - accuracy: 0.7802 - val_loss: 0.7815 - val_accuracy: 0.7333\n",
            "Epoch 17/20\n",
            "391/391 [==============================] - 3s 8ms/step - loss: 0.6187 - accuracy: 0.7824 - val_loss: 0.7815 - val_accuracy: 0.7343\n",
            "Epoch 18/20\n",
            "391/391 [==============================] - 3s 8ms/step - loss: 0.6120 - accuracy: 0.7856 - val_loss: 0.7867 - val_accuracy: 0.7331\n",
            "Epoch 19/20\n",
            "391/391 [==============================] - 3s 9ms/step - loss: 0.6048 - accuracy: 0.7877 - val_loss: 0.7693 - val_accuracy: 0.7379\n",
            "Epoch 20/20\n",
            "391/391 [==============================] - 3s 8ms/step - loss: 0.6014 - accuracy: 0.7873 - val_loss: 0.7523 - val_accuracy: 0.7445\n"
          ]
        }
      ]
    },
    {
      "cell_type": "code",
      "source": [
        "#using pyplot to plot out the loss and validation loss\n",
        "plt.figure()\n",
        "plt.plot(hist.history['loss'], color = 'teal', label = 'loss')\n",
        "plt.plot(hist.history['val_loss'], color = 'orange', label = 'val_loss')\n",
        "plt.suptitle('Loss', fontsize = 30)\n",
        "plt.legend(loc='upper right')\n",
        "plt.show()"
      ],
      "metadata": {
        "colab": {
          "base_uri": "https://localhost:8080/",
          "height": 294
        },
        "id": "cdi-02iuJQkp",
        "outputId": "c4be1f66-0896-4f49-9e3b-a1e71540480a"
      },
      "execution_count": 70,
      "outputs": [
        {
          "output_type": "display_data",
          "data": {
            "text/plain": [
              "<Figure size 432x288 with 1 Axes>"
            ],
            "image/png": "[encoded data removed]"
          },
          "metadata": {
            "needs_background": "light"
          }
        }
      ]
    },
    {
      "cell_type": "code",
      "source": [
        "# using pyplot to plot out the accuracy and validation accuracy\n",
        "plt.figure()\n",
        "plt.plot(hist.history['accuracy'], color = 'teal', label = 'accuracy')\n",
        "plt.plot(hist.history['val_accuracy'], color = 'orange', label = 'val_accuracy')\n",
        "plt.suptitle('Accuracy', fontsize = 30)\n",
        "plt.legend(loc='upper right')\n",
        "plt.show()"
      ],
      "metadata": {
        "colab": {
          "base_uri": "https://localhost:8080/",
          "height": 294
        },
        "id": "2NuTxKhTJRnL",
        "outputId": "763b549a-8b0d-49f2-f32c-07fe19ef07ff"
      },
      "execution_count": 71,
      "outputs": [
        {
          "output_type": "display_data",
          "data": {
            "text/plain": [
              "<Figure size 432x288 with 1 Axes>"
            ],
            "image/png": "[encoded data removed]"
          },
          "metadata": {
            "needs_background": "light"
          }
        }
      ]
    }
  ]
}